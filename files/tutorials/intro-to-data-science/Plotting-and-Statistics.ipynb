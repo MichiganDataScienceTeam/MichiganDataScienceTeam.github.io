{
 "cells": [
  {
   "cell_type": "markdown",
   "metadata": {},
   "source": [
    "<center><img src=\"http://mdst.eecs.umich.edu/images/mdst-logo-circle.png\" width=350></center>\n",
    "\n",
    "# Introduction to Plotting\n",
    "### (and some basic stats)\n",
    "\n",
    "Communicating what you discover is one of the most important aspects of data science.  While I can't claim that it is more important than knowing how to build a model (because then, what would you communicate?), I would say that having a good model with no communication is similar to having an engine in your car but no transmission.  You might have a lot of power at your disposal, but you aren't going anywhere without something to turn it into motion.\n",
    "\n",
    "This lecture is going to be more hands-on than previous tutorials.  Let's begin by importing pandas, nunmpy, and matlplotlib."
   ]
  },
  {
   "cell_type": "code",
   "execution_count": 2,
   "metadata": {
    "collapsed": false
   },
   "outputs": [],
   "source": [
    "# Plot our graphs in ipython, not in a new window.\n",
    "%matplotlib inline \n",
    "\n",
    "# Import libraries\n",
    "import pandas as pd\n",
    "import numpy as np\n",
    "import matplotlib.pyplot as plt"
   ]
  },
  {
   "cell_type": "markdown",
   "metadata": {},
   "source": [
    "## Some Statistics\n",
    "\n",
    "Let's review some simple statistics.  We all know what the mean, median, and mode of a random variable are.  Today let us recall variance, quartiles, and correlation.\n",
    "\n",
    "The variance of a random variable may be thought of as a measure of how spread out your data is.  See <a href=\"https://en.wikipedia.org/wiki/Variance\">here</a> for a rigorous treatment.\n",
    "\n",
    "Random variables with the same mean but different variances can tell very different stories.  Beware of using only one descriptor to communicate information about data.\n",
    "\n",
    "<center><img src=\"https://upload.wikimedia.org/wikipedia/commons/thumb/7/74/Normal_Distribution_PDF.svg/720px-Normal_Distribution_PDF.svg.png\">(Wikipedia)</center>"
   ]
  },
  {
   "cell_type": "markdown",
   "metadata": {},
   "source": [
    "Another way to communicate how spread out your data is to use quartiles, or even better a boxplot.  The quartiles are the boundaries that separate concentrations of data.  The first quartile is the region in which the first quarter of the data falls, the second quartile pertains to the second quarter, etc.\n",
    "\n",
    "Here are some examples.\n",
    "\n",
    "<center><img src=\"https://upload.wikimedia.org/wikipedia/commons/thumb/f/fa/Michelsonmorley-boxplot.svg/432px-Michelsonmorley-boxplot.svg.png\">(source: Wikipedida)</center>\n",
    "\n",
    "<center><img src=\"https://docs.google.com/drawings/d/1ZFfjCSke2I43m69AuXXWuKGZZB61KXgHYAeYFdxpAcE/pub?w=575&h=242\">(source: MDST)</center>"
   ]
  },
  {
   "cell_type": "markdown",
   "metadata": {},
   "source": [
    "Finally, there is correlation.  Correlation is a measure of how \"colinear\" data are.  One way to think of it is how much it makes sense that two random variables follow a straight line.\n",
    "\n",
    "Wikipedia has a wonderful graphic that communicates this concept:\n",
    "\n",
    "<center><img src=\"https://upload.wikimedia.org/wikipedia/commons/thumb/d/d4/Correlation_examples2.svg/506px-Correlation_examples2.svg.png\"></center>\n",
    "\n",
    "However, correlation is somewhat like a mean calculation - it can tell and incomplete story or even be entirely misleading. (The following also is from wikipedia)\n",
    "\n",
    "<center><img src=\"https://upload.wikimedia.org/wikipedia/commons/thumb/e/ec/Anscombe%27s_quartet_3.svg/990px-Anscombe%27s_quartet_3.svg.png\"></center>"
   ]
  },
  {
   "cell_type": "markdown",
   "metadata": {},
   "source": [
    "# Plotting in Python\n",
    "\n",
    "Python, specifically matplotlib, gives us a large toolkit for creating various sorts of plots.  Let's load up the data and get started!"
   ]
  },
  {
   "cell_type": "code",
   "execution_count": 3,
   "metadata": {
    "collapsed": false
   },
   "outputs": [],
   "source": [
    "cols = ['Lead_(ppb)', 'Land_Value', 'Year_Built', 'SL_Type', 'SL_Type2', 'HomeSEV', 'Land_Value', 'Building_Storeys']\n",
    "\n",
    "train_df = pd.read_csv('./data/flint_train.csv', usecols=cols)"
   ]
  },
  {
   "cell_type": "code",
   "execution_count": 4,
   "metadata": {
    "collapsed": false
   },
   "outputs": [
    {
     "data": {
      "text/plain": [
       "<matplotlib.image.AxesImage at 0x1169616a0>"
      ]
     },
     "execution_count": 4,
     "metadata": {},
     "output_type": "execute_result"
    },
    {
     "data": {
      "image/png": "[encoded data removed]",
      "text/plain": [
       "<matplotlib.figure.Figure at 0x116545b38>"
      ]
     },
     "metadata": {},
     "output_type": "display_data"
    }
   ],
   "source": [
    "train_corr = train_df.corr()\n",
    "plt.imshow(train_corr - np.eye(7), interpolation='none', cmap='gray')"
   ]
  },
  {
   "cell_type": "code",
   "execution_count": 5,
   "metadata": {
    "collapsed": false
   },
   "outputs": [
    {
     "data": {
      "image/png": "[encoded data removed]",
      "text/plain": [
       "<matplotlib.figure.Figure at 0x116cafbe0>"
      ]
     },
     "metadata": {},
     "output_type": "display_data"
    }
   ],
   "source": [
    "counts = plt.hist(train_df[train_df['Lead_(ppb)'] > 0]['Lead_(ppb)'], bins=20, log=True)"
   ]
  },
  {
   "cell_type": "code",
   "execution_count": 13,
   "metadata": {
    "collapsed": false
   },
   "outputs": [
    {
     "data": {
      "text/plain": [
       "[0, 100, 0, 200000]"
      ]
     },
     "execution_count": 13,
     "metadata": {},
     "output_type": "execute_result"
    },
    {
     "data": {
      "image/png": "[encoded data removed]",
      "text/plain": [
       "<matplotlib.figure.Figure at 0x20df2c5c0>"
      ]
     },
     "metadata": {},
     "output_type": "display_data"
    }
   ],
   "source": [
    "plt.figure()\n",
    "plt.scatter(train_df[train_df['Lead_(ppb)'] > 15]['Lead_(ppb)'].values, \n",
    "            train_df[train_df['Lead_(ppb)'] > 15]['Land_Value'].values)\n",
    "plt.axis([0, 100, 0, 200000])"
   ]
  },
  {
   "cell_type": "code",
   "execution_count": 17,
   "metadata": {
    "collapsed": false
   },
   "outputs": [
    {
     "data": {
      "text/plain": [
       "<matplotlib.collections.PathCollection at 0x1937516a0>"
      ]
     },
     "execution_count": 17,
     "metadata": {},
     "output_type": "execute_result"
    },
    {
     "data": {
      "image/png": "[encoded data removed]",
      "text/plain": [
       "<matplotlib.figure.Figure at 0x20dad8080>"
      ]
     },
     "metadata": {},
     "output_type": "display_data"
    }
   ],
   "source": [
    "plt.scatter(train_df[np.logical_and(train_df['Year_Built'] > 1900, train_df['Lead_(ppb)'] > 15)]['Year_Built'], \n",
    "            train_df[np.logical_and(train_df['Year_Built'] > 1900, train_df['Lead_(ppb)'] > 15)]['Lead_(ppb)'])"
   ]
  },
  {
   "cell_type": "code",
   "execution_count": null,
   "metadata": {
    "collapsed": true
   },
   "outputs": [],
   "source": []
  }
 ],
 "metadata": {
  "anaconda-cloud": {},
  "kernelspec": {
   "display_name": "Python [Root]",
   "language": "python",
   "name": "Python [Root]"
  },
  "language_info": {
   "codemirror_mode": {
    "name": "ipython",
    "version": 3
   },
   "file_extension": ".py",
   "mimetype": "text/x-python",
   "name": "python",
   "nbconvert_exporter": "python",
   "pygments_lexer": "ipython3",
   "version": "3.5.2"
  }
 },
 "nbformat": 4,
 "nbformat_minor": 0
}
